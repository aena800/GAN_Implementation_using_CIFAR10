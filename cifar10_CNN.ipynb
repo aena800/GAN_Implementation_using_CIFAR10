{
  "nbformat": 4,
  "nbformat_minor": 0,
  "metadata": {
    "colab": {
      "provenance": [],
      "gpuType": "T4"
    },
    "kernelspec": {
      "name": "python3",
      "display_name": "Python 3"
    },
    "language_info": {
      "name": "python"
    },
    "accelerator": "GPU",
    "gpuClass": "standard"
  },
  "cells": [
    {
      "cell_type": "code",
      "execution_count": null,
      "metadata": {
        "id": "t-GaFfnbdgiS"
      },
      "outputs": [],
      "source": [
        "from tensorflow import keras\n",
        "from tensorflow.keras.applications.resnet50 import ResNet50\n",
        "from tensorflow.keras.models import Model\n",
        "import tensorflow as tf\n",
        "from tensorflow import keras\n",
        "import seaborn as sn\n",
        "from sklearn.manifold import TSNE\n",
        "from tensorflow.keras.layers import Add, Input, Conv2D, BatchNormalization, Activation, AveragePooling2D, Flatten, Dense\n",
        "from tensorflow.keras.regularizers import l2\n",
        "from tensorflow.keras.models import Model\n",
        "import numpy as np\n",
        "\n",
        "from tensorflow.keras.preprocessing.image import ImageDataGenerator\n",
        "from tensorflow.keras.utils import to_categorical\n",
        "from tensorflow.keras.applications.resnet50 import ResNet50, preprocess_input\n",
        "from tensorflow.keras.layers import Input, Flatten, Dense\n",
        "from tensorflow.keras.models import Model\n",
        "from tensorflow.keras.optimizers import SGD\n",
        "import sklearn.metrics as metrics\n",
        "import matplotlib.pyplot as plt"
      ]
    },
    {
      "cell_type": "code",
      "source": [
        "from tensorflow.keras.datasets import cifar10\n",
        "\n",
        "# Load the CIFAR-10 dataset\n",
        "(x_train, y_train), (x_test, y_test) = cifar10.load_data()\n",
        "\n",
        "# Print the shape of the training and testing datasets\n",
        "print('x_train shape:', x_train.shape)\n",
        "print('y_train shape:', y_train.shape)\n",
        "print('x_test shape:', x_test.shape)\n",
        "print('y_test shape:', y_test.shape)\n"
      ],
      "metadata": {
        "colab": {
          "base_uri": "https://localhost:8080/"
        },
        "id": "sSHGFUNSdkHt",
        "outputId": "adf8c3f4-f0ff-4e85-9e01-acae5c6a183a"
      },
      "execution_count": null,
      "outputs": [
        {
          "output_type": "stream",
          "name": "stdout",
          "text": [
            "x_train shape: (50000, 32, 32, 3)\n",
            "y_train shape: (50000, 1)\n",
            "x_test shape: (10000, 32, 32, 3)\n",
            "y_test shape: (10000, 1)\n"
          ]
        }
      ]
    },
    {
      "cell_type": "code",
      "source": [
        "# Normalize the data between 1 and 0 (MINMAX scaling)\n",
        "x_train = x_train.astype('float32') / 255.0\n",
        "x_test = x_test.astype('float32') / 255.0\n",
        "\n",
        "# Convert the labels to one-hot encoding\n",
        "y_train = tf.keras.utils.to_categorical(y_train, 10)\n",
        "y_test = tf.keras.utils.to_categorical(y_test, 10)"
      ],
      "metadata": {
        "id": "iCVFmY3wdjaZ"
      },
      "execution_count": null,
      "outputs": []
    },
    {
      "cell_type": "code",
      "source": [
        "# Reshape\n",
        "\n",
        "# Reshape X_train and X_test\n",
        "x_trainR = np.reshape(x_train, (50000, 3072))"
      ],
      "metadata": {
        "id": "P4gXH4SDgNAh"
      },
      "execution_count": null,
      "outputs": []
    },
    {
      "cell_type": "code",
      "source": [
        "# tsne = TSNE()\n",
        "# VisTrain = tsne.fit_transform(x_trainR[:20000])\n",
        "\n",
        "# plt.figure(figsize=(10, 8))\n",
        "# plt.scatter(VisTrain[:,0], VisTrain[:,1], c=y_train[:20000], s=15)\n",
        "\n",
        "# plt.xticks([])\n",
        "# plt.yticks([])\n",
        "# plt.colorbar()\n"
      ],
      "metadata": {
        "id": "LM6jQn5OdjkD"
      },
      "execution_count": null,
      "outputs": []
    },
    {
      "cell_type": "code",
      "source": [
        "x_trainR_subset = x_trainR[:3000]\n",
        "y_train_subset = y_train[:3000]\n",
        "\n",
        "# Convert the labels to categorical arrays\n",
        "y_train_cat = to_categorical(y_train_subset)\n",
        "\n",
        "# Perform t-SNE dimensionality reduction on the subset of images\n",
        "tsne = TSNE()\n",
        "vis_train = tsne.fit_transform(x_trainR_subset)\n",
        "\n",
        "# Visualize the t-SNE embedding\n",
        "plt.figure(figsize=(10, 8))\n",
        "plt.scatter(vis_train[:, 0], vis_train[:, 1], c=y_train_cat, s=15)\n",
        "plt.xticks([])\n",
        "plt.yticks([])\n",
        "plt.colorbar()\n",
        "plt.show()"
      ],
      "metadata": {
        "id": "7pI0lu8piuBl"
      },
      "execution_count": null,
      "outputs": []
    },
    {
      "cell_type": "markdown",
      "source": [
        "## Model"
      ],
      "metadata": {
        "id": "Hqge1LhBkU8P"
      }
    },
    {
      "cell_type": "code",
      "source": [
        "from tensorflow.keras.optimizers import SGD\n",
        "from tensorflow.keras.callbacks import LearningRateScheduler\n",
        "from tensorflow.keras.layers import BatchNormalization\n",
        "from tensorflow.keras.models import Sequential\n",
        "from tensorflow.keras.layers import Conv2D, MaxPooling2D, Dropout, Flatten, Dense"
      ],
      "metadata": {
        "id": "s-zQQbXMkdHw"
      },
      "execution_count": null,
      "outputs": []
    },
    {
      "cell_type": "code",
      "source": [
        "# Define a function for the learning rate schedule\n",
        "def lr_schedule(epoch):\n",
        "    lr = 0.01\n",
        "    if epoch > 25:\n",
        "        lr = 0.001\n",
        "    if epoch > 33:\n",
        "        lr = 0.0001\n",
        "    if epoch > 40:  \n",
        "        lr = 0.00001\n",
        "    if epoch > 45:  \n",
        "        lr = 0.000001\n",
        "    return lr\n",
        "\n",
        "model = Sequential([\n",
        "    Conv2D(32, (3, 3), activation='relu', padding='same', input_shape=(32, 32, 3)),\n",
        "    BatchNormalization(),\n",
        "    Conv2D(32, (3, 3), activation='relu', padding='same'),\n",
        "    BatchNormalization(),\n",
        "    MaxPooling2D(pool_size=(2, 2)),\n",
        "    Dropout(0.25),\n",
        "    \n",
        "    Conv2D(64, (3, 3), activation='relu', padding='same'),\n",
        "    BatchNormalization(),\n",
        "    Conv2D(64, (3, 3), activation='relu', padding='same'),\n",
        "    BatchNormalization(),\n",
        "    MaxPooling2D(pool_size=(2, 2)),\n",
        "    Dropout(0.125),\n",
        "\n",
        "    Conv2D(128, (3, 3), activation='relu', padding='same'),\n",
        "    BatchNormalization(),\n",
        "    Conv2D(128, (3, 3), activation='relu', padding='same'),\n",
        "    BatchNormalization(),\n",
        "    #MaxPooling2D(pool_size=(2, 2)),\n",
        "    Dropout(0.25),\n",
        "\n",
        "    Conv2D(256, (3, 3), activation='relu', padding='same'),\n",
        "    BatchNormalization(),\n",
        "    Conv2D(256, (3, 3), activation='relu', padding='same'),\n",
        "    BatchNormalization(),\n",
        "    #MaxPooling2D(pool_size=(2, 2)),\n",
        "    Dropout(0.25),\n",
        "\n",
        "    Flatten(),\n",
        "    Dense(512, activation='relu'),\n",
        "    BatchNormalization(),\n",
        "    Dropout(0.5),\n",
        "\n",
        "    Dense(10, activation='softmax')\n",
        "])\n",
        "\n",
        "#model.summary()"
      ],
      "metadata": {
        "id": "xmi4umaNiup8"
      },
      "execution_count": null,
      "outputs": []
    },
    {
      "cell_type": "code",
      "source": [
        "#defining the optimizer with its lr and momentum GD\n",
        "sgd= SGD(lr=0.01, momentum=0.9, nesterov=True)\n",
        "model.compile(optimizer=sgd, loss='categorical_crossentropy', metrics=['accuracy'])\n",
        "\n",
        "# Define the learning rate schedule callback\n",
        "lr_scheduler= LearningRateScheduler(lr_schedule)\n",
        "\n",
        "# Train the model\n",
        "history= model.fit(x_train, y_train, validation_data=(x_test, y_test), epochs=50, batch_size=64,\n",
        "                   callbacks=[lr_scheduler])\n",
        "#history = model.fit(datagen.flow(x_train, y_train, batch_size=64),\n",
        "#                  steps_per_epoch=x_train.shape[0] // 64,\n",
        "#                  epochs=50,\n",
        "#                  validation_data=(x_test, y_test),callbacks=[lr_scheduler])"
      ],
      "metadata": {
        "colab": {
          "base_uri": "https://localhost:8080/"
        },
        "id": "3MDeHT9UkZel",
        "outputId": "19acd49b-2fd1-44b8-8008-5f35ca2bc812"
      },
      "execution_count": null,
      "outputs": [
        {
          "output_type": "stream",
          "name": "stderr",
          "text": [
            "WARNING:absl:`lr` is deprecated in Keras optimizer, please use `learning_rate` or use the legacy optimizer, e.g.,tf.keras.optimizers.legacy.SGD.\n"
          ]
        },
        {
          "output_type": "stream",
          "name": "stdout",
          "text": [
            "Epoch 1/50\n",
            "782/782 [==============================] - 29s 20ms/step - loss: 1.8606 - accuracy: 0.3947 - val_loss: 2.0063 - val_accuracy: 0.3350 - lr: 0.0100\n",
            "Epoch 2/50\n",
            "782/782 [==============================] - 15s 19ms/step - loss: 1.3908 - accuracy: 0.5324 - val_loss: 1.0846 - val_accuracy: 0.6184 - lr: 0.0100\n",
            "Epoch 3/50\n",
            "782/782 [==============================] - 14s 18ms/step - loss: 1.0376 - accuracy: 0.6420 - val_loss: 0.9706 - val_accuracy: 0.6715 - lr: 0.0100\n",
            "Epoch 4/50\n",
            "782/782 [==============================] - 14s 18ms/step - loss: 0.8679 - accuracy: 0.6990 - val_loss: 0.7447 - val_accuracy: 0.7457 - lr: 0.0100\n",
            "Epoch 5/50\n",
            "782/782 [==============================] - 15s 19ms/step - loss: 0.7590 - accuracy: 0.7371 - val_loss: 0.7019 - val_accuracy: 0.7532 - lr: 0.0100\n",
            "Epoch 6/50\n",
            "782/782 [==============================] - 15s 19ms/step - loss: 0.6688 - accuracy: 0.7708 - val_loss: 0.6328 - val_accuracy: 0.7851 - lr: 0.0100\n",
            "Epoch 7/50\n",
            "782/782 [==============================] - 14s 18ms/step - loss: 0.5995 - accuracy: 0.7933 - val_loss: 0.6682 - val_accuracy: 0.7780 - lr: 0.0100\n",
            "Epoch 8/50\n",
            "782/782 [==============================] - 14s 18ms/step - loss: 0.5431 - accuracy: 0.8121 - val_loss: 0.6159 - val_accuracy: 0.7986 - lr: 0.0100\n",
            "Epoch 9/50\n",
            "782/782 [==============================] - 15s 19ms/step - loss: 0.4870 - accuracy: 0.8291 - val_loss: 0.6135 - val_accuracy: 0.8047 - lr: 0.0100\n",
            "Epoch 10/50\n",
            "782/782 [==============================] - 15s 19ms/step - loss: 0.4526 - accuracy: 0.8420 - val_loss: 0.5737 - val_accuracy: 0.8159 - lr: 0.0100\n",
            "Epoch 11/50\n",
            "782/782 [==============================] - 14s 18ms/step - loss: 0.4071 - accuracy: 0.8588 - val_loss: 0.5507 - val_accuracy: 0.8209 - lr: 0.0100\n",
            "Epoch 12/50\n",
            "782/782 [==============================] - 14s 18ms/step - loss: 0.3760 - accuracy: 0.8677 - val_loss: 0.6053 - val_accuracy: 0.8124 - lr: 0.0100\n",
            "Epoch 13/50\n",
            "782/782 [==============================] - 14s 18ms/step - loss: 0.3428 - accuracy: 0.8799 - val_loss: 0.5506 - val_accuracy: 0.8262 - lr: 0.0100\n",
            "Epoch 14/50\n",
            "782/782 [==============================] - 14s 18ms/step - loss: 0.3069 - accuracy: 0.8920 - val_loss: 0.6279 - val_accuracy: 0.8131 - lr: 0.0100\n",
            "Epoch 15/50\n",
            "782/782 [==============================] - 15s 19ms/step - loss: 0.2826 - accuracy: 0.8997 - val_loss: 0.5969 - val_accuracy: 0.8264 - lr: 0.0100\n",
            "Epoch 16/50\n",
            "782/782 [==============================] - 14s 18ms/step - loss: 0.2567 - accuracy: 0.9089 - val_loss: 0.5879 - val_accuracy: 0.8255 - lr: 0.0100\n",
            "Epoch 17/50\n",
            "782/782 [==============================] - 14s 18ms/step - loss: 0.2376 - accuracy: 0.9158 - val_loss: 0.6073 - val_accuracy: 0.8319 - lr: 0.0100\n",
            "Epoch 18/50\n",
            "782/782 [==============================] - 14s 18ms/step - loss: 0.2160 - accuracy: 0.9232 - val_loss: 0.6387 - val_accuracy: 0.8321 - lr: 0.0100\n",
            "Epoch 19/50\n",
            "782/782 [==============================] - 15s 19ms/step - loss: 0.1935 - accuracy: 0.9301 - val_loss: 0.6223 - val_accuracy: 0.8376 - lr: 0.0100\n",
            "Epoch 20/50\n",
            "782/782 [==============================] - 15s 19ms/step - loss: 0.1789 - accuracy: 0.9360 - val_loss: 0.6107 - val_accuracy: 0.8388 - lr: 0.0100\n",
            "Epoch 21/50\n",
            "782/782 [==============================] - 14s 18ms/step - loss: 0.1714 - accuracy: 0.9407 - val_loss: 0.6650 - val_accuracy: 0.8314 - lr: 0.0100\n",
            "Epoch 22/50\n",
            "782/782 [==============================] - 14s 18ms/step - loss: 0.1680 - accuracy: 0.9407 - val_loss: 0.6202 - val_accuracy: 0.8422 - lr: 0.0100\n",
            "Epoch 23/50\n",
            "782/782 [==============================] - 14s 18ms/step - loss: 0.1485 - accuracy: 0.9481 - val_loss: 0.6542 - val_accuracy: 0.8373 - lr: 0.0100\n",
            "Epoch 24/50\n",
            "782/782 [==============================] - 14s 18ms/step - loss: 0.1349 - accuracy: 0.9531 - val_loss: 0.7189 - val_accuracy: 0.8299 - lr: 0.0100\n",
            "Epoch 25/50\n",
            "782/782 [==============================] - 14s 18ms/step - loss: 0.1267 - accuracy: 0.9558 - val_loss: 0.7021 - val_accuracy: 0.8349 - lr: 0.0100\n",
            "Epoch 26/50\n",
            "782/782 [==============================] - 14s 18ms/step - loss: 0.1231 - accuracy: 0.9563 - val_loss: 0.6717 - val_accuracy: 0.8378 - lr: 0.0100\n",
            "Epoch 27/50\n",
            "782/782 [==============================] - 15s 19ms/step - loss: 0.0854 - accuracy: 0.9698 - val_loss: 0.5990 - val_accuracy: 0.8526 - lr: 0.0010\n",
            "Epoch 28/50\n",
            "782/782 [==============================] - 15s 19ms/step - loss: 0.0701 - accuracy: 0.9757 - val_loss: 0.5954 - val_accuracy: 0.8547 - lr: 0.0010\n",
            "Epoch 29/50\n",
            "782/782 [==============================] - 15s 19ms/step - loss: 0.0614 - accuracy: 0.9792 - val_loss: 0.5956 - val_accuracy: 0.8565 - lr: 0.0010\n",
            "Epoch 30/50\n",
            "782/782 [==============================] - 15s 19ms/step - loss: 0.0576 - accuracy: 0.9801 - val_loss: 0.5995 - val_accuracy: 0.8579 - lr: 0.0010\n",
            "Epoch 31/50\n",
            "782/782 [==============================] - 15s 19ms/step - loss: 0.0530 - accuracy: 0.9823 - val_loss: 0.6105 - val_accuracy: 0.8568 - lr: 0.0010\n",
            "Epoch 32/50\n",
            "782/782 [==============================] - 15s 19ms/step - loss: 0.0519 - accuracy: 0.9823 - val_loss: 0.6064 - val_accuracy: 0.8575 - lr: 0.0010\n",
            "Epoch 33/50\n",
            "782/782 [==============================] - 14s 18ms/step - loss: 0.0474 - accuracy: 0.9842 - val_loss: 0.6063 - val_accuracy: 0.8596 - lr: 0.0010\n",
            "Epoch 34/50\n",
            "782/782 [==============================] - 14s 18ms/step - loss: 0.0470 - accuracy: 0.9841 - val_loss: 0.6106 - val_accuracy: 0.8577 - lr: 0.0010\n",
            "Epoch 35/50\n",
            "782/782 [==============================] - 14s 18ms/step - loss: 0.0439 - accuracy: 0.9850 - val_loss: 0.6162 - val_accuracy: 0.8581 - lr: 1.0000e-04\n",
            "Epoch 36/50\n",
            "782/782 [==============================] - 15s 19ms/step - loss: 0.0455 - accuracy: 0.9852 - val_loss: 0.6129 - val_accuracy: 0.8583 - lr: 1.0000e-04\n",
            "Epoch 37/50\n",
            "782/782 [==============================] - 14s 18ms/step - loss: 0.0438 - accuracy: 0.9857 - val_loss: 0.6160 - val_accuracy: 0.8583 - lr: 1.0000e-04\n",
            "Epoch 38/50\n",
            "782/782 [==============================] - 15s 19ms/step - loss: 0.0411 - accuracy: 0.9870 - val_loss: 0.6149 - val_accuracy: 0.8594 - lr: 1.0000e-04\n",
            "Epoch 39/50\n",
            "782/782 [==============================] - 15s 19ms/step - loss: 0.0424 - accuracy: 0.9859 - val_loss: 0.6150 - val_accuracy: 0.8587 - lr: 1.0000e-04\n",
            "Epoch 40/50\n",
            "782/782 [==============================] - 14s 18ms/step - loss: 0.0419 - accuracy: 0.9863 - val_loss: 0.6138 - val_accuracy: 0.8588 - lr: 1.0000e-04\n",
            "Epoch 41/50\n",
            "782/782 [==============================] - 15s 19ms/step - loss: 0.0438 - accuracy: 0.9855 - val_loss: 0.6157 - val_accuracy: 0.8591 - lr: 1.0000e-04\n",
            "Epoch 42/50\n",
            "782/782 [==============================] - 15s 19ms/step - loss: 0.0425 - accuracy: 0.9859 - val_loss: 0.6161 - val_accuracy: 0.8582 - lr: 1.0000e-05\n",
            "Epoch 43/50\n",
            "782/782 [==============================] - 15s 19ms/step - loss: 0.0425 - accuracy: 0.9855 - val_loss: 0.6126 - val_accuracy: 0.8592 - lr: 1.0000e-05\n",
            "Epoch 44/50\n",
            "782/782 [==============================] - 14s 18ms/step - loss: 0.0425 - accuracy: 0.9859 - val_loss: 0.6141 - val_accuracy: 0.8595 - lr: 1.0000e-05\n",
            "Epoch 45/50\n",
            "782/782 [==============================] - 14s 18ms/step - loss: 0.0413 - accuracy: 0.9866 - val_loss: 0.6147 - val_accuracy: 0.8583 - lr: 1.0000e-05\n",
            "Epoch 46/50\n",
            "782/782 [==============================] - 15s 19ms/step - loss: 0.0435 - accuracy: 0.9854 - val_loss: 0.6158 - val_accuracy: 0.8592 - lr: 1.0000e-05\n",
            "Epoch 47/50\n",
            "782/782 [==============================] - 15s 19ms/step - loss: 0.0419 - accuracy: 0.9862 - val_loss: 0.6145 - val_accuracy: 0.8594 - lr: 1.0000e-06\n",
            "Epoch 48/50\n",
            "782/782 [==============================] - 15s 19ms/step - loss: 0.0405 - accuracy: 0.9865 - val_loss: 0.6172 - val_accuracy: 0.8601 - lr: 1.0000e-06\n",
            "Epoch 49/50\n",
            "782/782 [==============================] - 15s 19ms/step - loss: 0.0440 - accuracy: 0.9849 - val_loss: 0.6156 - val_accuracy: 0.8585 - lr: 1.0000e-06\n",
            "Epoch 50/50\n",
            "782/782 [==============================] - 15s 19ms/step - loss: 0.0404 - accuracy: 0.9866 - val_loss: 0.6144 - val_accuracy: 0.8594 - lr: 1.0000e-06\n"
          ]
        }
      ]
    },
    {
      "cell_type": "code",
      "source": [
        "#use metrics to print accuracy and f1 score\n",
        "test_loss, test_acc = model.evaluate(x_test, y_test, verbose=2)\n",
        "\n",
        "y_pred = model.predict(x_test)\n",
        "y_pred = np.argmax(y_pred, axis=1)\n",
        "\n",
        "y_true = np.argmax(y_test, axis=1)\n",
        "\n",
        "accuracy = metrics.accuracy_score(y_true, y_pred)\n",
        "f1_score = metrics.f1_score(y_true, y_pred, average='macro')\n",
        "\n",
        "print('Test loss:', test_loss)\n",
        "print('Test accuracy:', test_acc)\n",
        "print('Accuracy:', accuracy)\n",
        "print('F1 score:', f1_score)"
      ],
      "metadata": {
        "colab": {
          "base_uri": "https://localhost:8080/"
        },
        "id": "C5rUkdGmkZiG",
        "outputId": "7458ea8d-b7ff-4e75-baae-006932947a80"
      },
      "execution_count": null,
      "outputs": [
        {
          "output_type": "stream",
          "name": "stdout",
          "text": [
            "313/313 - 2s - loss: 0.6144 - accuracy: 0.8594 - 2s/epoch - 5ms/step\n",
            "313/313 [==============================] - 1s 4ms/step\n",
            "Test loss: 0.6144431233406067\n",
            "Test accuracy: 0.8593999743461609\n",
            "Accuracy: 0.8594\n",
            "F1 score: 0.8583797024737079\n"
          ]
        }
      ]
    },
    {
      "cell_type": "code",
      "source": [
        "#visualosing accuracy and loss\n",
        "\n",
        "#training & validation accuracy values\n",
        "plt.plot(history.history['accuracy'])\n",
        "plt.plot(history.history['val_accuracy'])\n",
        "plt.title('Model accuracy')\n",
        "plt.ylabel('Accuracy')\n",
        "plt.xlabel('Epoch')\n",
        "plt.legend(['Train', 'Test'], loc='upper left')\n",
        "plt.show()\n",
        "\n",
        "#training & validation loss values\n",
        "plt.plot(history.history['loss'])\n",
        "plt.plot(history.history['val_loss'])\n",
        "plt.title('Model loss')\n",
        "plt.ylabel('Loss')\n",
        "plt.xlabel('Epoch')\n",
        "plt.legend(['Train', 'Test'], loc='upper left')\n",
        "plt.show()"
      ],
      "metadata": {
        "colab": {
          "base_uri": "https://localhost:8080/",
          "height": 927
        },
        "id": "UG8S97K5mBry",
        "outputId": "25b9b894-45b0-40de-8008-55716d1f517d"
      },
      "execution_count": null,
      "outputs": [
        {
          "output_type": "display_data",
          "data": {
            "text/plain": [
              "<Figure size 640x480 with 1 Axes>"
            ],
            "image/png": "[encoded data removed]"
          },
          "metadata": {}
        },
        {
          "output_type": "display_data",
          "data": {
            "text/plain": [
              "<Figure size 640x480 with 1 Axes>"
            ],
            "image/png": "[encoded data removed]"
          },
          "metadata": {}
        }
      ]
    },
    {
      "cell_type": "code",
      "source": [
        "import pickle\n",
        "# save the model\n",
        "with open('cifer10_model_86acc.pkl', 'wb') as f:\n",
        "    pickle.dump(model, f)"
      ],
      "metadata": {
        "id": "Ma9m1OfNmGm2"
      },
      "execution_count": null,
      "outputs": []
    },
    {
      "cell_type": "code",
      "source": [
        "from google.colab import files\n",
        "files.download('cifer10_model_86acc.pkl')"
      ],
      "metadata": {
        "colab": {
          "base_uri": "https://localhost:8080/",
          "height": 17
        },
        "id": "bKn58gXzmGqY",
        "outputId": "dda89ef5-a673-416a-94b4-dcbe47dcfc9d"
      },
      "execution_count": null,
      "outputs": [
        {
          "output_type": "display_data",
          "data": {
            "text/plain": [
              "<IPython.core.display.Javascript object>"
            ],
            "application/javascript": [
              "\n",
              "    async function download(id, filename, size) {\n",
              "      if (!google.colab.kernel.accessAllowed) {\n",
              "        return;\n",
              "      }\n",
              "      const div = document.createElement('div');\n",
              "      const label = document.createElement('label');\n",
              "      label.textContent = `Downloading \"${filename}\": `;\n",
              "      div.appendChild(label);\n",
              "      const progress = document.createElement('progress');\n",
              "      progress.max = size;\n",
              "      div.appendChild(progress);\n",
              "      document.body.appendChild(div);\n",
              "\n",
              "      const buffers = [];\n",
              "      let downloaded = 0;\n",
              "\n",
              "      const channel = await google.colab.kernel.comms.open(id);\n",
              "      // Send a message to notify the kernel that we're ready.\n",
              "      channel.send({})\n",
              "\n",
              "      for await (const message of channel.messages) {\n",
              "        // Send a message to notify the kernel that we're ready.\n",
              "        channel.send({})\n",
              "        if (message.buffers) {\n",
              "          for (const buffer of message.buffers) {\n",
              "            buffers.push(buffer);\n",
              "            downloaded += buffer.byteLength;\n",
              "            progress.value = downloaded;\n",
              "          }\n",
              "        }\n",
              "      }\n",
              "      const blob = new Blob(buffers, {type: 'application/binary'});\n",
              "      const a = document.createElement('a');\n",
              "      a.href = window.URL.createObjectURL(blob);\n",
              "      a.download = filename;\n",
              "      div.appendChild(a);\n",
              "      a.click();\n",
              "      div.remove();\n",
              "    }\n",
              "  "
            ]
          },
          "metadata": {}
        },
        {
          "output_type": "display_data",
          "data": {
            "text/plain": [
              "<IPython.core.display.Javascript object>"
            ],
            "application/javascript": [
              "download(\"download_ac47af3c-2d67-4bc0-9a07-6222a8ddb96c\", \"cifer10_model_86acc.pkl\", 76675462)"
            ]
          },
          "metadata": {}
        }
      ]
    },
    {
      "cell_type": "code",
      "source": [
        "/content/drive/MyDrive/CIFER10 GAN/epoch70_img10.png"
      ],
      "metadata": {
        "id": "x1G5ZIApRMVf"
      },
      "execution_count": null,
      "outputs": []
    },
    {
      "cell_type": "markdown",
      "source": [
        "## Prediction part"
      ],
      "metadata": {
        "id": "ZbOMW_KaRNIA"
      }
    },
    {
      "cell_type": "code",
      "source": [
        "from google.colab import drive\n",
        "drive.mount('/content/drive')\n"
      ],
      "metadata": {
        "colab": {
          "base_uri": "https://localhost:8080/"
        },
        "id": "FvnPk6dbRMZv",
        "outputId": "49ec362b-026a-46fa-af6a-88d6d5ab392c"
      },
      "execution_count": null,
      "outputs": [
        {
          "output_type": "stream",
          "name": "stdout",
          "text": [
            "Drive already mounted at /content/drive; to attempt to forcibly remount, call drive.mount(\"/content/drive\", force_remount=True).\n"
          ]
        }
      ]
    },
    {
      "cell_type": "code",
      "source": [
        "class_names = ['airplane', 'automobile', 'bird', 'cat', 'deer', 'dog', 'frog', 'horse', 'ship', 'truck']"
      ],
      "metadata": {
        "id": "CfRqG9jtT0A4"
      },
      "execution_count": null,
      "outputs": []
    },
    {
      "cell_type": "code",
      "source": [
        "import cv2\n",
        "import numpy as np\n",
        "\n",
        "\n",
        "image_path = '/content/drive/MyDrive/CIFAR10 GAN2/epoch50_img5.png'\n",
        "image = cv2.imread(image_path)\n",
        "#Ploting the image\n",
        "plt.imshow(image)\n",
        "plt.show()"
      ],
      "metadata": {
        "colab": {
          "base_uri": "https://localhost:8080/",
          "height": 430
        },
        "id": "YvTkSOe6RMdg",
        "outputId": "08ba5810-06dd-4128-c96b-e279146f7f94"
      },
      "execution_count": null,
      "outputs": [
        {
          "output_type": "display_data",
          "data": {
            "text/plain": [
              "<Figure size 640x480 with 1 Axes>"
            ],
            "image/png": "[encoded data removed]"
          },
          "metadata": {}
        }
      ]
    },
    {
      "cell_type": "code",
      "source": [
        "image_path2 = '/content/drive/MyDrive/CIFAR10 GAN2/epoch50_img6.png'\n",
        "image2 = cv2.imread(image_path2)\n",
        "#Ploting the image\n",
        "plt.imshow(image2)\n",
        "plt.show()"
      ],
      "metadata": {
        "colab": {
          "base_uri": "https://localhost:8080/",
          "height": 430
        },
        "id": "pJaVkMO0Sk3p",
        "outputId": "70bbd53c-8afb-42c5-8701-da9cf5b4a6a5"
      },
      "execution_count": null,
      "outputs": [
        {
          "output_type": "display_data",
          "data": {
            "text/plain": [
              "<Figure size 640x480 with 1 Axes>"
            ],
            "image/png": "[encoded data removed]"
          },
          "metadata": {}
        }
      ]
    },
    {
      "cell_type": "code",
      "source": [
        "image_path3 = '/content/drive/MyDrive/CIFER10 GAN/epoch70_img18.png'\n",
        "image3 = cv2.imread(image_path3)\n",
        "#Ploting the image\n",
        "plt.imshow(image3)\n",
        "plt.show()"
      ],
      "metadata": {
        "colab": {
          "base_uri": "https://localhost:8080/",
          "height": 430
        },
        "id": "mQ90PL0sSspv",
        "outputId": "30e257cc-ed42-41a2-99fb-94825ee9bd15"
      },
      "execution_count": null,
      "outputs": [
        {
          "output_type": "display_data",
          "data": {
            "text/plain": [
              "<Figure size 640x480 with 1 Axes>"
            ],
            "image/png": "[encoded data removed]"
          },
          "metadata": {}
        }
      ]
    },
    {
      "cell_type": "code",
      "source": [
        "image_path4 = '/content/drive/MyDrive/CIFER10 GAN/epoch70_img22.png'\n",
        "image4 = cv2.imread(image_path4)\n",
        "#Ploting the image\n",
        "plt.imshow(image4)\n",
        "plt.show()"
      ],
      "metadata": {
        "colab": {
          "base_uri": "https://localhost:8080/",
          "height": 430
        },
        "id": "R1OKc9gCV6Uk",
        "outputId": "dcd9640d-bb84-4165-cb94-b34760612de9"
      },
      "execution_count": null,
      "outputs": [
        {
          "output_type": "display_data",
          "data": {
            "text/plain": [
              "<Figure size 640x480 with 1 Axes>"
            ],
            "image/png": "[encoded data removed]"
          },
          "metadata": {}
        }
      ]
    },
    {
      "cell_type": "code",
      "source": [
        "# Preprocess the images\n",
        "image = cv2.resize(image, (32, 32))\n",
        "image = np.expand_dims(image, axis=0)\n",
        "image = image.astype('float32') / 255.0\n",
        "\n",
        "image2 = cv2.resize(image2, (32, 32))\n",
        "image2 = np.expand_dims(image2, axis=0)\n",
        "image2 = image2.astype('float32') / 255.0\n",
        "\n",
        "image3 = cv2.resize(image3, (32, 32))\n",
        "image3 = np.expand_dims(image3, axis=0)\n",
        "image3 = image3.astype('float32') / 255.0\n",
        "\n",
        "image4 = cv2.resize(image4, (32, 32))\n",
        "image4 = np.expand_dims(image4, axis=0)\n",
        "image4 = image3.astype('float32') / 255.0"
      ],
      "metadata": {
        "id": "NxikQJcIRyr0"
      },
      "execution_count": null,
      "outputs": []
    },
    {
      "cell_type": "code",
      "source": [
        "#image1\n",
        "prediction = model.predict(image) #will give probability of each 10 classes\n",
        "#print(prediction)\n",
        "\n",
        "pred_class_index = np.argmax(prediction)\n",
        "pred_class_label = pred_class_index \n",
        "\n",
        "predicted_class_name = class_names[pred_class_label]\n",
        "print('The predicted class label is:', predicted_class_name)"
      ],
      "metadata": {
        "colab": {
          "base_uri": "https://localhost:8080/"
        },
        "id": "bKlZpVhJR1Yk",
        "outputId": "61bfdda4-9d2f-48b0-e611-4c49ce1f603a"
      },
      "execution_count": null,
      "outputs": [
        {
          "output_type": "stream",
          "name": "stdout",
          "text": [
            "1/1 [==============================] - 0s 19ms/step\n",
            "The predicted class label is: truck\n"
          ]
        }
      ]
    },
    {
      "cell_type": "code",
      "source": [
        "#image2\n",
        "prediction = model.predict(image2) #will give probability of each 10 classes\n",
        "#print(prediction)\n",
        "\n",
        "pred_class_index = np.argmax(prediction)\n",
        "pred_class_label = pred_class_index +1\n",
        "\n",
        "predicted_class_name = class_names[pred_class_label]\n",
        "print('The predicted class label is:', predicted_class_name)"
      ],
      "metadata": {
        "colab": {
          "base_uri": "https://localhost:8080/"
        },
        "id": "ztvZ4Ii6UdkA",
        "outputId": "c988d2a2-d372-454f-e072-793c31f95985"
      },
      "execution_count": null,
      "outputs": [
        {
          "output_type": "stream",
          "name": "stdout",
          "text": [
            "1/1 [==============================] - 0s 20ms/step\n",
            "The predicted class label is: horse\n"
          ]
        }
      ]
    },
    {
      "cell_type": "code",
      "source": [
        "#image3\n",
        "prediction = model.predict(image3) #will give probability of each 10 classes\n",
        "#print(prediction)\n",
        "\n",
        "pred_class_index = np.argmax(prediction)\n",
        "pred_class_label = pred_class_index + 1\n",
        "\n",
        "predicted_class_name = class_names[pred_class_label]\n",
        "print('The predicted class label is:', predicted_class_name)"
      ],
      "metadata": {
        "colab": {
          "base_uri": "https://localhost:8080/"
        },
        "id": "sO1_TqPlUdqC",
        "outputId": "84f4b455-515c-488b-cc64-ce26676c1e2a"
      },
      "execution_count": null,
      "outputs": [
        {
          "output_type": "stream",
          "name": "stdout",
          "text": [
            "1/1 [==============================] - 0s 22ms/step\n",
            "The predicted class label is: automobile\n"
          ]
        }
      ]
    },
    {
      "cell_type": "code",
      "source": [
        "#image4\n",
        "prediction = model.predict(image4) #will give probability of each 10 classes\n",
        "#print(prediction)\n",
        "\n",
        "pred_class_index = np.argmax(prediction)\n",
        "pred_class_label = pred_class_index + 1\n",
        "\n",
        "predicted_class_name = class_names[pred_class_label]\n",
        "print('The predicted class label is:', predicted_class_name)"
      ],
      "metadata": {
        "id": "EmV3YzsZWhdk",
        "outputId": "68f493b0-4581-44fe-cd00-2de5a0f2e6f3",
        "colab": {
          "base_uri": "https://localhost:8080/"
        }
      },
      "execution_count": null,
      "outputs": [
        {
          "output_type": "stream",
          "name": "stdout",
          "text": [
            "1/1 [==============================] - 0s 20ms/step\n",
            "The predicted class label is: dog\n"
          ]
        }
      ]
    },
    {
      "cell_type": "code",
      "source": [],
      "metadata": {
        "id": "yon7gqSFRvyR"
      },
      "execution_count": null,
      "outputs": []
    }
  ]
}